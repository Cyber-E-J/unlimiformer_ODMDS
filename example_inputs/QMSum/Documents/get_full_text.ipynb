{
 "cells": [
  {
   "cell_type": "code",
   "execution_count": 1,
   "metadata": {},
   "outputs": [],
   "source": [
    "import os\n",
    "\n",
    "def concatenate_txt_files(input_folder, output_file, delimiter='---------------'):\n",
    "    \"\"\"\n",
    "    Concatenates the contents of all txt files in the input folder,\n",
    "    separating them by the specified delimiter.\n",
    "    \n",
    "    Parameters:\n",
    "    - input_folder: path to the folder containing the txt files\n",
    "    - output_file: path to the output txt file\n",
    "    - delimiter: string used to separate contents of different files\n",
    "    \"\"\"\n",
    "    \n",
    "    # Initialize an empty string to hold the contents\n",
    "    combined_content = ''\n",
    "    \n",
    "    # Loop through each file in the folder\n",
    "    for filename in os.listdir(input_folder):\n",
    "        if filename.endswith('.txt'):\n",
    "            filepath = os.path.join(input_folder, filename)\n",
    "            \n",
    "            # Read the contents of the file\n",
    "            with open(filepath, 'r') as f:\n",
    "                content = f.read()\n",
    "                \n",
    "            # Add to the combined content string\n",
    "            combined_content += content + '\\n' + delimiter + '\\n'\n",
    "            \n",
    "    # Write the combined content to the output file\n",
    "    with open(output_file, 'w') as f:\n",
    "        f.write(combined_content)\n",
    "\n",
    "# Example usage\n",
    "input_folder = '.'  # Replace with the path to your folder containing the txt files\n",
    "output_file = 'combined.txt'  # Name of the output file\n",
    "\n",
    "concatenate_txt_files(input_folder, output_file)\n"
   ]
  },
  {
   "cell_type": "code",
   "execution_count": null,
   "metadata": {},
   "outputs": [],
   "source": []
  }
 ],
 "metadata": {
  "kernelspec": {
   "display_name": "base",
   "language": "python",
   "name": "python3"
  },
  "language_info": {
   "codemirror_mode": {
    "name": "ipython",
    "version": 3
   },
   "file_extension": ".py",
   "mimetype": "text/x-python",
   "name": "python",
   "nbconvert_exporter": "python",
   "pygments_lexer": "ipython3",
   "version": "3.9.12"
  },
  "orig_nbformat": 4
 },
 "nbformat": 4,
 "nbformat_minor": 2
}
